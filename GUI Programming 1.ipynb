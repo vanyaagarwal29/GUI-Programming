{
 "cells": [
  {
   "cell_type": "markdown",
   "id": "790716c7",
   "metadata": {},
   "source": [
    "### GUI Programming-I\n",
    "\n",
    "- Introduction To GUI\n",
    "- How Python Supports GUI \n",
    "- The Tkinter Library\n",
    "- Our First GUI App\n",
    "- Modifying The First App"
   ]
  },
  {
   "cell_type": "markdown",
   "id": "c37c3808",
   "metadata": {},
   "source": [
    "### Current Approach Of Programming\n",
    "\n",
    "Till now we have seen how to write text-only programs which have a CUI interface. \n",
    "\n",
    "\n",
    "CUI stands for Command User Interface\n",
    "\n",
    "\n",
    "It is called CUI because:\n",
    "The output shown by our program is purely textual \n",
    "It is shown on command prompt\n",
    "The only way our user can interact with our application is via keyboard"
   ]
  },
  {
   "cell_type": "markdown",
   "id": "69057ec4",
   "metadata": {},
   "source": [
    "### Drawbacks Of CUI\n",
    "\n",
    "This approach is very good for learning basics of a language.\n",
    "\n",
    "However  when it comes to a real life application or project then CUI is not comfortable for the user.\n",
    "\n",
    "Our users would like the app to be more realistic , attractive and user friendly.\n",
    "\n",
    "This is where GUI programming which stands for Graphical User Interface comes into picture."
   ]
  },
  {
   "cell_type": "markdown",
   "id": "f2de8ab0",
   "metadata": {},
   "source": [
    "### Introduction To GUI\n",
    "\n",
    "A GUI program presents an easy-to-use visual display to the user. \n",
    "\n",
    "\n",
    "\n",
    "It is made up of graphical components (e.g., buttons, labels, windows) through which the user can interact with the application"
   ]
  },
  {
   "cell_type": "markdown",
   "id": "064555cc",
   "metadata": {},
   "source": [
    "### Python’s Support For GUI\n",
    "\n",
    "In Python we have many predefined libraries for building GUI apps.\n",
    "\n",
    "The TOP 3 of them are:\n",
    "\n",
    "Tkinter\n",
    "\n",
    "PyQT\n",
    "\n",
    "WxPython \n",
    "\n",
    "We will be using Tkinter in this course "
   ]
  },
  {
   "cell_type": "markdown",
   "id": "17cdd56c",
   "metadata": {},
   "source": [
    "### What Is Tkinter ?\n",
    "Tkinter ( Tk interface) is standard Python GUI library as it comes packaged with Python and is cross platform.\n",
    "\n",
    "\n",
    "\n",
    "It gives us an object-oriented interface to the Tk GUI toolkit.\n",
    "\n",
    "Tk was developed as a GUI extension for a programming language called TCL( Tool Command Language).\n",
    "\n",
    "\n",
    "\n",
    "It was released in 1991 and was extremely successful as it was very easy to learn and implement.\n",
    "\n",
    "Due to it’s popularity programmers of many languages incorporated Tk into their language also.\n",
    "\n",
    "\n",
    "So along with Python many other languages like ADA, Ruby , Lisp etc built up their Tk libraries.\n",
    "\n",
    "\n",
    "In Python this library was named Tkinter "
   ]
  },
  {
   "cell_type": "markdown",
   "id": "afed052a",
   "metadata": {},
   "source": [
    "### Important Steps In Tkinter\n",
    "Here are the steps listed, to keep in mind for creating any GUI applications in Python:\n",
    "\n",
    "At first , import the tkinter module\n",
    "\n",
    "Now create the main window of your GUI application \n",
    "\n",
    "Add one/more widgets to the GUI application\n",
    "\n",
    "Finally run the event loop that allows user to interact with the application"
   ]
  },
  {
   "cell_type": "markdown",
   "id": "58bcdb07",
   "metadata": {},
   "source": [
    "### Our first GUI App"
   ]
  },
  {
   "cell_type": "code",
   "execution_count": 2,
   "id": "60477cbd",
   "metadata": {},
   "outputs": [
    {
     "name": "stdout",
     "output_type": "stream",
     "text": [
      "Collecting tk\n",
      "  Downloading tk-0.1.0-py3-none-any.whl (3.9 kB)\n",
      "Installing collected packages: tk\n",
      "Successfully installed tk-0.1.0\n"
     ]
    }
   ],
   "source": [
    "!pip install tk"
   ]
  },
  {
   "cell_type": "code",
   "execution_count": 6,
   "id": "0f65942e",
   "metadata": {},
   "outputs": [],
   "source": [
    "import tkinter\n",
    "#We start by importing the tkinter module. \n",
    "\n",
    "#It contains all classes, functions and other things needed to work with the Tk toolkit."
   ]
  },
  {
   "cell_type": "code",
   "execution_count": 7,
   "id": "59b07e6f",
   "metadata": {},
   "outputs": [],
   "source": [
    "tw = tkinter.Tk()\n",
    "\n",
    "#To initialize tkinter, we have to create an object of the class Tk which is normally called the root widget.\n",
    "\n",
    "#This is an ordinary window, with a title bar and other decorations provided by our window manager. \n",
    "\n",
    "#We should only create one root widget for each program, and it must be created before any other widgets"
   ]
  },
  {
   "cell_type": "code",
   "execution_count": 4,
   "id": "89e869e3",
   "metadata": {},
   "outputs": [],
   "source": [
    "tw.mainloop()\n",
    "#Finally when our window is ready to be displayed we have to call the Tk method mainloop().\n",
    "\n",
    "#This method does 2 things:\n",
    "\n",
    "#Makes the root widget appear on screen\n",
    "\n",
    "#Runs an infinite event loop until we close the window"
   ]
  },
  {
   "cell_type": "markdown",
   "id": "7646e23f",
   "metadata": {},
   "source": [
    "If we closely observe the output of the previous code we will notice 4 things:\n",
    "\n",
    "The window is having default title as tk\n",
    "\n",
    "It is having a default logo\n",
    "\n",
    "The width and height are 200 * 200\n",
    "\n",
    "It appears at random location on our desktop\n",
    "\n",
    "Now we will discuss how to change all these default \n",
    "settings\n"
   ]
  },
  {
   "cell_type": "code",
   "execution_count": null,
   "id": "27d951b6",
   "metadata": {},
   "outputs": [],
   "source": [
    "#To change the title of the root widget we have to call the instance method called  title( ) of the class Tk.\n",
    "\n",
    "\n",
    "#This method accepts a string as argument and sets it as the title of the window.\n",
    "\n",
    "#Sample Call:\n",
    "tw.title(\"Vanya's GUI App\")"
   ]
  },
  {
   "cell_type": "markdown",
   "id": "745504bb",
   "metadata": {},
   "source": [
    "By default the root window comes with the default icon of Tk .\n",
    "\n",
    "To change this icon we have to take 2 steps:\n",
    "\n",
    "- Create an object of the class PhotoImage present in the tkinter module passing it the image to be used as icon using the keyword argument file\n",
    "\n",
    "- Pass this object as argument to the instance method called iconphoto() of the class Tk , passing it 2 arguments which are the Tk object itself and the PhotoImage object"
   ]
  },
  {
   "cell_type": "code",
   "execution_count": null,
   "id": "b21625e6",
   "metadata": {},
   "outputs": [],
   "source": [
    "#Creating object of PhotoImage class\n",
    "\n",
    "img=tkinter.PhotoImage(file=\"location of file\")\n",
    "\n",
    "\n",
    "#Calling the method iconphoto( ) of the class Tk\n",
    "\n",
    "tw.iconphoto(tw,img) \n",
    "\n",
    "#A point to remember is that this method only accepts gif and png images but not jpg images"
   ]
  },
  {
   "cell_type": "code",
   "execution_count": null,
   "id": "236eb5c0",
   "metadata": {},
   "outputs": [],
   "source": [
    "#To change the size of the root window we have to call the instance method geometry( ) of Tk. \n",
    "\n",
    "#This method accepts an argument of string type with the format as  “w x h”, where w is width and h is height\n",
    "\n",
    "#Sample Call:\n",
    "\n",
    "tw.geometry(\"600x200\")\n",
    "\n",
    "#Note that we are using a lowercase “x” here instead of a “*” to essentially say: I want the window to be 600 pixels by (x) 200 pixels. "
   ]
  },
  {
   "cell_type": "code",
   "execution_count": null,
   "id": "be4caf6c",
   "metadata": {},
   "outputs": [],
   "source": [
    "#When the first Tkinter window is run, it will usually appear in the top left hand corner by default at some random location.\n",
    "\n",
    "#To change this we can add the starting x and y coordinates  after specifying the height in the geometry() method.\n",
    "\n",
    "#Sample Call:\n",
    "\n",
    "tw.geometry(\"600x200+400+250\") \n",
    "\n",
    "#Here, we position the top left corner of the window right 400 pixels and down 250 pixels"
   ]
  },
  {
   "cell_type": "code",
   "execution_count": null,
   "id": "c02f7fcc",
   "metadata": {},
   "outputs": [],
   "source": [
    "#complete code\n",
    "import tkinter\n",
    "tw = tkinter.Tk()\n",
    "tw.title(\"SunnyS's GUI App\")\n",
    "img=tkinter.PhotoImage(file=\"C:\\\\Users\\\\Lenovo\\\\Downloads\\\\test2.png\")\n",
    "#print(img)\n",
    "tw.iconphoto(tw,img)\n",
    "tw.geometry(\"600x200+600+250\") \n",
    "tw.mainloop() "
   ]
  },
  {
   "cell_type": "code",
   "execution_count": null,
   "id": "4f69f408",
   "metadata": {},
   "outputs": [],
   "source": [
    "import tkinter\n",
    "root = tkinter.Tk()\n",
    "logo=tkinter.PhotoImage(file=\"C:\\\\Users\\\\Lenovo\\\\Downloads\\\\test2.png\")\n",
    "#lbl=tkinter.Label(root,image=logo)\n",
    "lbl=tkinter.Label(root,text=\"Python is a general purpose programming language\",image=logo,compound=tkinter.LEFT)\n",
    "lbl.pack()\n",
    "root.mainloop()\n"
   ]
  },
  {
   "cell_type": "code",
   "execution_count": null,
   "id": "026ed1ca",
   "metadata": {},
   "outputs": [],
   "source": [
    "#When our gui app will run , the user can change the window width and height by dragging the window edges.\n",
    "\n",
    "#In some cases we don’t want to allow the user to change the window size and for this we can call the instance method resizable( ) of Tk.\n",
    "\n",
    "#This method accepts two boolean arguments representing whether changing width and height is allowed or not\n",
    "\n",
    "#Sample Call:\n",
    "\n",
    "tw.resizable(False,False)"
   ]
  },
  {
   "cell_type": "markdown",
   "id": "4dc848d0",
   "metadata": {},
   "source": [
    "To put our main window at the center of the screen , we simply have to follow the below mentioned steps:\n",
    "\n",
    "Obtain the current screen width and current screen height by calling the method winfo_screenwidth() and winfo_screenheight() of the Tk object\n",
    "\n",
    "Set the starting coordinates 25% from left and 25% from top\n",
    "\n",
    "Set the width and height of the window to be half of the screen width and screen height\n"
   ]
  },
  {
   "cell_type": "code",
   "execution_count": 8,
   "id": "21e71bc8",
   "metadata": {},
   "outputs": [
    {
     "name": "stdout",
     "output_type": "stream",
     "text": [
      "1536\n",
      "864\n"
     ]
    }
   ],
   "source": [
    "import tkinter\n",
    "tw = tkinter.Tk()\n",
    "screenwidth=tw.winfo_screenwidth()\n",
    "print(screenwidth)\n",
    "screenheight=tw.winfo_screenheight()\n",
    "print(screenheight)\n",
    "width=screenwidth//2\n",
    "height=screenheight//2\n",
    "xco=screenwidth//4\n",
    "yco=screenheight//4\n",
    "tw.geometry(f\"{width}x{height}+{xco}+{yco}\")\n",
    "tw.resizable(False,False) \n",
    "tw.mainloop()\n"
   ]
  },
  {
   "cell_type": "markdown",
   "id": "6518b217",
   "metadata": {},
   "source": [
    "### GUI Programming-II \n",
    "#### Using GUI Widgets"
   ]
  },
  {
   "cell_type": "markdown",
   "id": "390beb0d",
   "metadata": {},
   "source": [
    "### What Is A Widget ?\n",
    "\n",
    "All GUI components like Button , Label etc in Python are called widgets\n",
    "\n",
    "\n",
    "There are currently 19 types of widgets in Tkinter.\n",
    "\n",
    "\n",
    "However some of them are very common and their list is given in the next slide"
   ]
  },
  {
   "cell_type": "markdown",
   "id": "1dbc8209",
   "metadata": {},
   "source": [
    "**Label**-Displays a text or an image.\n",
    "\n",
    "**Button**-A simple button, used to execute a command or other operation.\n",
    "\n",
    "**Entry**-A single-line text field for accepting values from a user.\n",
    "\n",
    "**Checkbutton**-display a number of options as checkboxes. The user can select multiple options at a time.\n",
    "\n",
    "**Radiobutton**-display a number of options as radio buttons. The user can select only one option at a time.\n",
    "\n",
    "**Listbox**-used to provide a list of options to a user.\n",
    "\n",
    "**messagebox**-Used to display message boxes in your applications.\n",
    "\n",
    "**Frame**-A container widget to organize other widgets.\n",
    "\n",
    "**Menu**-Used to implement pulldown and popup menus.\n",
    "\n",
    "**Canvas**-Used to draw shapes, such as lines, ovals, polygons and rectangles, in your application.\n",
    "\n",
    "**Message**-Used to display multiline text fields\n",
    "\n",
    "**Spinbox**-Used to allow the user select an option from a fixed number of values\n"
   ]
  },
  {
   "cell_type": "markdown",
   "id": "5822ad09",
   "metadata": {},
   "source": [
    "## The Label Widget\n",
    "This widget implements a display box where we can place text or images. \n",
    "\n",
    "The text displayed by this widget can be updated by the programmer  any time."
   ]
  },
  {
   "cell_type": "markdown",
   "id": "5114a356",
   "metadata": {},
   "source": [
    "**Syntax:**\n",
    "\n",
    "w = Label ( master, options, ... )\n",
    "\n",
    "\n",
    "**Arguments:**\n",
    "\n",
    "master − This represents the parent window.\n",
    "\n",
    "options − Some extra arguments that can be used as key-value pairs separated by commas"
   ]
  },
  {
   "cell_type": "code",
   "execution_count": 10,
   "id": "992ee89e",
   "metadata": {},
   "outputs": [],
   "source": [
    "#example\n",
    "import tkinter\n",
    "root = tkinter.Tk()\n",
    "lbl=tkinter.Label(root,text=\"Welcome to python \")\n",
    "lbl.pack()\n",
    "root.mainloop()"
   ]
  },
  {
   "cell_type": "code",
   "execution_count": null,
   "id": "02e702d4",
   "metadata": {},
   "outputs": [],
   "source": [
    "#The initial lines are same as previous code.\n",
    "\n",
    "lbl=tkinter.Label(root,text=\"Welcome To Python\")\n",
    "\n",
    "#The next line of code contains the Label widget. \n",
    "\n",
    "#The first parameter of the Label call is the name of the parent window, in our case \"root\". \n",
    "\n",
    "#So our Label widget is a child of the root widget. \n",
    "\n",
    "#The keyword parameter \"text\" specifies the text to be shown\n"
   ]
  },
  {
   "cell_type": "code",
   "execution_count": null,
   "id": "074ff029",
   "metadata": {},
   "outputs": [],
   "source": [
    "lbl.pack()\n",
    "\n",
    "#The above line of code adds the Label to the window\n",
    "\n",
    "\n",
    "#This line is important because until we call the pack() method on the Label object , it won’t appear on the window."
   ]
  },
  {
   "cell_type": "markdown",
   "id": "d465b577",
   "metadata": {},
   "source": [
    "Another point to understand is that this method also tells Python to resize the window as per the dimension of the Label.\n",
    "\n",
    "Thus we can observe that the window size has been adjusted according to the Label size.\n",
    "\n",
    "Python does this to prevent the wastage of space.\n",
    "\n",
    "If we want window to be of larger size then we have to call the geometry( ) method on window object"
   ]
  },
  {
   "cell_type": "code",
   "execution_count": 11,
   "id": "fba42850",
   "metadata": {},
   "outputs": [],
   "source": [
    "import tkinter\n",
    "root = tkinter.Tk()\n",
    "root.geometry(\"600x200\")\n",
    "lbl=tkinter.Label(root,text=\"Welcome To Python\")\n",
    "lbl.pack()\n",
    "root.resizable(False,False)\n",
    "root.mainloop()"
   ]
  },
  {
   "cell_type": "code",
   "execution_count": 12,
   "id": "5fc1a6fb",
   "metadata": {},
   "outputs": [],
   "source": [
    "import tkinter\n",
    "root=tkinter.Tk()\n",
    "lbl1=tkinter.Label(root,text=\"Welcome To Python\")\n",
    "lbl2=tkinter.Label(root,text=\"Python Rocks!\")\n",
    "lbl1.pack()\n",
    "lbl2.pack()\n",
    "root.resizable(False,False)\n",
    "root.mainloop()\n",
    "    "
   ]
  },
  {
   "cell_type": "markdown",
   "id": "3de6022e",
   "metadata": {},
   "source": [
    "As we can observe , Python has done 2 things:\n",
    "\n",
    "- Added the new Label below the first Label\n",
    "- Aligned the Label by leaving equal sizes on both left and right side\n",
    "\n",
    "We can change this behaviour by using Layouting\n"
   ]
  },
  {
   "cell_type": "markdown",
   "id": "5f8bf74e",
   "metadata": {},
   "source": [
    "### Changing Foreground & Background Color In Label\n",
    "\n",
    "Python allows us to change the font colour and background colour of the Label widget.\n",
    "\n",
    "The attribute used for this are:\n",
    "\n",
    "**fg**: For changing the text colour \n",
    "\n",
    "**bg**: For changing the background colour of the label. \n",
    "\n",
    "The value passed should be a string which can be either the colour name or it’s hexadecimal value. For example “red” or “#f00”\u000b",
    "\n",
    "\n",
    "\n",
    "We pass these attributes as key-value pairs to the Label constructor"
   ]
  },
  {
   "cell_type": "markdown",
   "id": "47387717",
   "metadata": {},
   "source": [
    "**Write an app that displays the text Welcome To Python in \n",
    "red background and blue foreground color. Window \n",
    "size should be 600 x 200**\n"
   ]
  },
  {
   "cell_type": "code",
   "execution_count": 14,
   "id": "9408af79",
   "metadata": {},
   "outputs": [],
   "source": [
    "import tkinter\n",
    "root = tkinter.Tk()\n",
    "root.geometry(\"600x200\")\n",
    "lbl=tkinter.Label(root,text=\"Welcome To Python\", bg=\"purple\", fg=\"yellow\") \n",
    "lbl.pack()\n",
    "root.mainloop()"
   ]
  },
  {
   "cell_type": "markdown",
   "id": "aa0ab0f8",
   "metadata": {},
   "source": [
    "In the previous example we were changing the colour while creating the label \n",
    "\n",
    "\n",
    "But some times we will have to change the color after creating the Label.\n",
    "\n",
    "\n",
    "We can do this by calling the instance method config( ) or configure( ) of Label , passing it the keyword arguments for the attributes to be changed"
   ]
  },
  {
   "cell_type": "code",
   "execution_count": 16,
   "id": "674dc25d",
   "metadata": {},
   "outputs": [],
   "source": [
    "import tkinter\n",
    "root = tkinter.Tk()\n",
    "root.geometry(\"600x200\")\n",
    "lbl=tkinter.Label(root,text=\"Welcome To Python\")\n",
    "lbl.config(fg=\"red\",bg=\"yellow\")#This can also be lbl.configure(fg=“red”,bg=“yellow”)\n",
    "lbl.pack()\n",
    "root.mainloop() "
   ]
  },
  {
   "cell_type": "markdown",
   "id": "a643a757",
   "metadata": {},
   "source": [
    "**Write an app that displays the text Welcome To Python in \n",
    "red background and blue foreground color. Also the \n",
    "window background color should be yellow. Window size \n",
    "should be 600 x 200**"
   ]
  },
  {
   "cell_type": "code",
   "execution_count": 17,
   "id": "54e3bcc9",
   "metadata": {},
   "outputs": [],
   "source": [
    "import tkinter\n",
    "root = tkinter.Tk()\n",
    "root.geometry(\"600x200\")\n",
    "root.configure(bg = 'yellow')\n",
    "lbl = tkinter.Label(root,text=\"Welcome to python\")\n",
    "lbl.config(bg = 'red', fg='blue')\n",
    "lbl.pack()\n",
    "root.mainloop()\n"
   ]
  },
  {
   "cell_type": "markdown",
   "id": "03c6a71e",
   "metadata": {},
   "source": [
    "### Changing Font Style"
   ]
  },
  {
   "cell_type": "markdown",
   "id": "0e719cac",
   "metadata": {},
   "source": [
    "Python allows us to change the Font name , size and style (bold,italic or normal) for the Label widget.\n",
    "\n",
    "\n",
    "We can do this by passing the font keyword argument to the Label constructor along with the desired values.\n",
    "\n",
    "\n",
    "All the values should be passed as a string and the order compulsorily should be font name , followed by font size and then font style"
   ]
  },
  {
   "cell_type": "markdown",
   "id": "97a9cd1c",
   "metadata": {},
   "source": [
    "**Write an app that displays the text Welcome To Python in \n",
    "Arial font , 22 pixels size and bold. Window size should be \n",
    "600 x 200**"
   ]
  },
  {
   "cell_type": "code",
   "execution_count": 19,
   "id": "bf853ac5",
   "metadata": {},
   "outputs": [
    {
     "name": "stdout",
     "output_type": "stream",
     "text": [
      "['activebackground', 'activeforeground', 'anchor', 'background', 'bd', 'bg', 'bitmap', 'borderwidth', 'compound', 'cursor', 'disabledforeground', 'fg', 'font', 'foreground', 'height', 'highlightbackground', 'highlightcolor', 'highlightthickness', 'image', 'justify', 'padx', 'pady', 'relief', 'state', 'takefocus', 'text', 'textvariable', 'underline', 'width', 'wraplength']\n"
     ]
    }
   ],
   "source": [
    "import tkinter\n",
    "root = tkinter.Tk()\n",
    "root.geometry(\"600x200\")\n",
    "lbl=tkinter.Label(root,text=\"Welcome To Python\",font=\"Arial 22 bold\")\n",
    "print(lbl.keys())\n",
    "lbl.pack()\n",
    "root.mainloop()"
   ]
  },
  {
   "cell_type": "markdown",
   "id": "0df692e1",
   "metadata": {},
   "source": [
    "This order is very important . It should begin with the font name then font size and finally font style.\n",
    "\n",
    "Moreover font name can be in any case but font style has to be in lower case only"
   ]
  },
  {
   "cell_type": "markdown",
   "id": "0c33d603",
   "metadata": {},
   "source": [
    "### Using The Method config( )"
   ]
  },
  {
   "cell_type": "code",
   "execution_count": 20,
   "id": "fde1c2d4",
   "metadata": {},
   "outputs": [],
   "source": [
    "import tkinter\n",
    "root = tkinter.Tk()\n",
    "root.geometry(\"600x200\")\n",
    "lbl=tkinter.Label(root,text=\"Welcome To Python\")\n",
    "lbl.config(font=\"Verdana 40 italic\")\n",
    "lbl.pack()\n",
    "root.mainloop()\n"
   ]
  },
  {
   "cell_type": "code",
   "execution_count": 21,
   "id": "db1f5f32",
   "metadata": {},
   "outputs": [],
   "source": [
    "import tkinter\n",
    "root = tkinter.Tk()\n",
    "root.geometry(\"600x200\")\n",
    "lbl=tkinter.Label(root,text=\"Welcome To Python\",)\n",
    "lbl.config(font=(\"Times New Roman\", 20, \"bold\"))\n",
    "lbl.pack()\n",
    "root.mainloop()\n"
   ]
  },
  {
   "cell_type": "markdown",
   "id": "c60de873",
   "metadata": {},
   "source": [
    "### How To Change Only Specific Font Attributes ?\n",
    "In the previous examples , we changed all three attributes of the Font called the font name , font size as well as font style.\n",
    "\n",
    "\n",
    "But sometimes we need to change just one or two attributes and not all the attributes.\n",
    "\n",
    "\n",
    "For example , we might just want to change the font style and not font name or font size\n",
    "\n",
    "In such cases we cannot use the previous approach .\n",
    "\n",
    "\n",
    "This is because while using the font attribute as shown previously we have to mention all  the three attributes.\n",
    "\n",
    "\n",
    "So the solution is to use the Font class available in tkinter.font module\n",
    "\n",
    "Following are the steps to do this:\n",
    "\n",
    "Import the tkinter.font module\n",
    "\n",
    "Create the Font class object by calling it’s constructor which takes following keyword arguments\n",
    "\n",
    "Finally pass this Font object to the font attribute to Label constructor or the  config( ) method \n",
    "\n",
    "**family**- The font family name as a string.\n",
    "\n",
    "**size**-The font height as an integer in points.\n",
    "\n",
    "**weight**-'bold' for boldface, 'normal' for regular weight.\n",
    "\n",
    "**slant**-'italic' for italic, 'roman' for unslanted.\n",
    "\n",
    "**underline**-1 for underlined text, 0 for normal.\n",
    "\n",
    "**overstrike**-1 for overstruck text, 0 for normal."
   ]
  },
  {
   "cell_type": "markdown",
   "id": "c09ba490",
   "metadata": {},
   "source": [
    "**Write an app that displays the text Welcome To Python in \n",
    "bold. Window size should be 600 x 200**"
   ]
  },
  {
   "cell_type": "code",
   "execution_count": 22,
   "id": "c772803f",
   "metadata": {},
   "outputs": [],
   "source": [
    "import tkinter\n",
    "import tkinter.font as tkFont\n",
    "root = tkinter.Tk()\n",
    "root.geometry(\"600x200\")\n",
    "myfont=tkFont.Font(weight=\"bold\")\n",
    "lbl=tkinter.Label(root,text=\"Welcome To Python\",font=myfont)\n",
    "lbl.pack()\n",
    "root.mainloop()"
   ]
  },
  {
   "cell_type": "markdown",
   "id": "4fe2e289",
   "metadata": {},
   "source": [
    "### Setting width In Label\n",
    "By default the width of the Label is according to the text it contains.\n",
    "\n",
    "\n",
    "\n",
    "But we can change it by setting the width property of the Label.\n",
    "\n",
    "\n",
    "The value we pass should be an integer value and it is in textunits "
   ]
  },
  {
   "cell_type": "code",
   "execution_count": 24,
   "id": "767e0f22",
   "metadata": {},
   "outputs": [],
   "source": [
    "import tkinter\n",
    "root = tkinter.Tk()\n",
    "root.geometry(\"600x200\")\n",
    "lbl=tkinter.Label(root,text=\"Welcome To Python\",bg='red',width=40)\n",
    "lbl.pack()\n",
    "root.mainloop() \n"
   ]
  },
  {
   "cell_type": "code",
   "execution_count": 25,
   "id": "86a2c49a",
   "metadata": {},
   "outputs": [],
   "source": [
    "import tkinter\n",
    "import tkinter.font as tkFont\n",
    "root = tkinter.Tk()\n",
    "root.geometry(\"600x200\")\n",
    "myfont=tkFont.Font(size=\"22\")\n",
    "lbl=tkinter.Label(root,text=\"Welcome To Python\",font=myfont,bg=\"red\",width=30)\n",
    "lbl.pack()\n",
    "root.mainloop() "
   ]
  },
  {
   "cell_type": "markdown",
   "id": "1168023d",
   "metadata": {},
   "source": [
    "### Setting border In Label\n",
    "Tkinter allows us to change the border settings of Label and or this we need to handle 2 attributes:\n",
    "\n",
    "**borderwidth**: Used to specify the thickness of the border in pixels\n",
    "\n",
    "**relief**: Used to specify border pattern which can be solid,raised,sunken,flat,ridge,groove"
   ]
  },
  {
   "cell_type": "code",
   "execution_count": 27,
   "id": "653f75fe",
   "metadata": {},
   "outputs": [],
   "source": [
    "import tkinter\n",
    "import tkinter.font as tkFont\n",
    "root = tkinter.Tk()\n",
    "root.geometry(\"400x400\")\n",
    "myfont=tkFont.Font(size=\"22\")\n",
    "lbl1=tkinter.Label(root,text=\"solid\",font=myfont,borderwidth=2,relief=\"solid\",width=20)\n",
    "lbl2=tkinter.Label(root,text=\"flat\",font=myfont,borderwidth=2,relief=\"flat\",width=20)\n",
    "lbl3=tkinter.Label(root,text=\"raised\",font=myfont,borderwidth=2,relief=\"raised\",width=20)\n",
    "lbl4=tkinter.Label(root,text=\"sunken\",font=myfont,borderwidth=2,relief=\"sunken\",width=20)\n",
    "lbl5=tkinter.Label(root,text=\"ridge\",font=myfont,borderwidth=2,relief=\"ridge\",width=20)\n",
    "lbl6=tkinter.Label(root,text=\"groove\",font=myfont,borderwidth=2,relief=\"groove\",width=20)\n",
    "lbl1.pack()\n",
    "lbl2.pack()\n",
    "lbl3.pack()\n",
    "lbl4.pack()\n",
    "lbl5.pack()\n",
    "lbl6.pack()\n",
    "root.mainloop()\n"
   ]
  },
  {
   "cell_type": "markdown",
   "id": "eed67b0a",
   "metadata": {},
   "source": [
    "## Positioning Text Inside The Label"
   ]
  },
  {
   "cell_type": "code",
   "execution_count": 2,
   "id": "512702dc",
   "metadata": {},
   "outputs": [],
   "source": [
    "#When we place some text in the Label , then by default Python aligns it to the center of the Label , as shown in the code and it’s output below:\n",
    "#Code:\n",
    "import tkinter\n",
    "import tkinter.font as tkFont\n",
    "root = tkinter.Tk()\n",
    "myfont=tkFont.Font(size=\"22\")\n",
    "lbl=tkinter.Label(root,text=\"Hello\\nIndia\",font=myfont,borderwidth=2,relief=\"solid\",width=20,height=4)\n",
    "lbl.pack()\n",
    "root.mainloop()"
   ]
  },
  {
   "cell_type": "markdown",
   "id": "0ad9d866",
   "metadata": {},
   "source": [
    "We have set height attribute to 4 so that the label becomes heighted  enough to display 4 characters verically.\n",
    "\n",
    "Also we can observe that by default Python has centered the text inside the Label"
   ]
  },
  {
   "cell_type": "markdown",
   "id": "6aa4fa2e",
   "metadata": {},
   "source": [
    "### Positioning Text Inside The Label\n",
    "To change this behavior we set the anchor property of the Label which can have following possible values:\n",
    "\n",
    "\"n\" : for north side\n",
    "\n",
    "\"ne\" : for north-east side\n",
    "\n",
    "\"e\" : for east side\n",
    "\n",
    "\"se\" : for south-east side\n",
    "\n",
    "\"s\" : for south side\n",
    "\n",
    "\"sw\" : for south-west side\n",
    "\n",
    "\n",
    "\"w\": for west side\n",
    "\n",
    "\"nw\": for north-west side\n",
    "\n",
    "\"center\":for center"
   ]
  },
  {
   "cell_type": "code",
   "execution_count": null,
   "id": "81c97cbe",
   "metadata": {},
   "outputs": [],
   "source": [
    "lbl=tkinter.Label(root,text=\"Hello\\nIndia\",font=myfont,\n",
    "borderwidth=2,relief=\"solid\",width=20,height=4,anchor=“n”)\n",
    "lbl.pack()\n"
   ]
  },
  {
   "cell_type": "code",
   "execution_count": null,
   "id": "9bf1a179",
   "metadata": {},
   "outputs": [],
   "source": [
    "lbl=tkinter.Label(root,text=\"Hello\\nIndia\",font=myfont,\n",
    "borderwidth=2,relief=\"solid\",width=20,height=4,anchor=“s”)\n",
    "lbl.pack()"
   ]
  },
  {
   "cell_type": "code",
   "execution_count": null,
   "id": "9cce572b",
   "metadata": {},
   "outputs": [],
   "source": [
    "lbl=tkinter.Label(root,text=\"Hello\\nIndia\",font=myfont,borderwidth=2,relief=\"solid\",width=20,height=4,anchor=“e”)\n",
    "lbl.pack()\n"
   ]
  },
  {
   "cell_type": "code",
   "execution_count": null,
   "id": "cf5f6507",
   "metadata": {},
   "outputs": [],
   "source": [
    "lbl=tkinter.Label(root,text=\"Hello\\nIndia\",font=myfont,\n",
    "borderwidth=2,relief=\"solid\",width=20,height=4,anchor=“w”)\n",
    "lbl.pack()"
   ]
  },
  {
   "cell_type": "code",
   "execution_count": null,
   "id": "88d9940c",
   "metadata": {},
   "outputs": [],
   "source": [
    "lbl=tkinter.Label(root,text=\"Hello\\nIndia\",font=myfont,\n",
    "borderwidth=2,relief=\"solid\",width=20,height=4,anchor=“center”)\n",
    "lbl.pack()\n"
   ]
  },
  {
   "cell_type": "markdown",
   "id": "1ff44335",
   "metadata": {},
   "source": [
    "### Using The keys( ) Method  Of Label\n",
    "\n",
    "All the attributes that we set for a Label are internally stored inside a dictionary object within the Label.\n",
    "\n",
    "The attributes become key names  and their values becomes values of these keys\n",
    "\n",
    "\n",
    "We can retrieve these values using the method keys() of the Label object.\n",
    "\n",
    "\n",
    "This method returns a list of attributes as keys"
   ]
  },
  {
   "cell_type": "code",
   "execution_count": 3,
   "id": "fcd488d3",
   "metadata": {},
   "outputs": [
    {
     "name": "stdout",
     "output_type": "stream",
     "text": [
      "['activebackground', 'activeforeground', 'anchor', 'background', 'bd', 'bg', 'bitmap', 'borderwidth', 'compound', 'cursor', 'disabledforeground', 'fg', 'font', 'foreground', 'height', 'highlightbackground', 'highlightcolor', 'highlightthickness', 'image', 'justify', 'padx', 'pady', 'relief', 'state', 'takefocus', 'text', 'textvariable', 'underline', 'width', 'wraplength']\n"
     ]
    }
   ],
   "source": [
    "import tkinter\n",
    "root = tkinter.Tk()\n",
    "lbl=tkinter.Label(root, text=\"Hello\\nIndia\",font=\"arial 22 bold\",borderwidth=4, relief=\"solid\", bg=\"blue\",fg=\"white\")\n",
    "lbl.pack()\n",
    "print(lbl.keys())\n",
    "root.mainloop() \n"
   ]
  },
  {
   "cell_type": "markdown",
   "id": "d7ea13eb",
   "metadata": {},
   "source": [
    "### Getting Label Attributes\n",
    "Python allows us to retrieve values of the Label attributes .\n",
    "\n",
    "\n",
    "Since all the attributes that we set in a Label are placed as key-value pairs in a dictionary inside the Label object , so to get these values ,we can simply use the subscript operator with the Label object passing it the attribute name as the key in the form of string.\n"
   ]
  },
  {
   "cell_type": "code",
   "execution_count": 4,
   "id": "c559e8f4",
   "metadata": {},
   "outputs": [
    {
     "name": "stdout",
     "output_type": "stream",
     "text": [
      "Hello\n",
      "India\n",
      "arial 22 bold\n",
      "4\n",
      "solid\n",
      "blue\n",
      "white\n"
     ]
    }
   ],
   "source": [
    "import tkinter\n",
    "root = tkinter.Tk()\n",
    "lbl=tkinter.Label(root, text=\"Hello\\nIndia\",font=\"arial 22 bold\",borderwidth=4, relief=\"solid\",\n",
    "bg=\"blue\",fg=\"white\")\n",
    "lbl.pack()\n",
    "print(lbl['text'])\n",
    "print(lbl['font'])\n",
    "print(lbl['borderwidth'])\n",
    "print(lbl['relief'])\n",
    "print(lbl['bg'])\n",
    "print(lbl['fg'])\n",
    "root.mainloop()\n"
   ]
  },
  {
   "cell_type": "markdown",
   "id": "cbc2da6b",
   "metadata": {},
   "source": [
    "### Altering Label Attributes Dynamically\n",
    "Since the Label attributes are placed as dictionary key-value pairs , so we also can alter them after the Label has been created or packed.\n",
    "\n",
    "\n",
    "This can be done ,by simply assigning the desired value to the attribute set as dictionary key. \n"
   ]
  },
  {
   "cell_type": "code",
   "execution_count": 5,
   "id": "5d450a30",
   "metadata": {},
   "outputs": [],
   "source": [
    "import tkinter\n",
    "root = tkinter.Tk()\n",
    "lbl=tkinter.Label(root, text=\"Hello\\nIndia\",font=\"arial 22 bold\", borderwidth=4, relief=\"solid\", bg=\"blue\",fg=\"white\")\n",
    "lbl.pack()\n",
    "lbl['bg']=\"red\"\n",
    "lbl['text']=\"Welcome\"\n",
    "root.mainloop() \n"
   ]
  },
  {
   "cell_type": "markdown",
   "id": "a0617d4c",
   "metadata": {},
   "source": [
    "### Displaying Images In Label\n",
    "We can use Python Label object to display images also.\n",
    "\n",
    "To do this we need to take 2 steps:\n",
    "Create a PhotoImage object passing the path of the image to it’s keyword argument file\n",
    "\n",
    "Pass this PhotoImage object to the image attribute of the Label\n",
    "\n",
    "However as mentioned before the image extension should be either gif or png."
   ]
  },
  {
   "cell_type": "markdown",
   "id": "c12745b1",
   "metadata": {},
   "source": [
    "### Write an app that displays the image (d:/images/login_icon_1.gif)  in the window. "
   ]
  },
  {
   "cell_type": "code",
   "execution_count": null,
   "id": "335d2d21",
   "metadata": {},
   "outputs": [],
   "source": [
    "import os\n",
    "os.getcwd()"
   ]
  },
  {
   "cell_type": "code",
   "execution_count": null,
   "id": "863c5a4e",
   "metadata": {},
   "outputs": [],
   "source": [
    "import tkinter\n",
    "root = tkinter.Tk()\n",
    "logo=tkinter.PhotoImage(file='C:\\\\Users\\\\Lenovo\\\\Downloads\\\\test2.png')\n",
    "lbl=tkinter.Label(root,image=logo)\n",
    "lbl.pack()\n",
    "root.mainloop()"
   ]
  },
  {
   "cell_type": "markdown",
   "id": "1bc6342b",
   "metadata": {},
   "source": [
    "### Adding text And image Both\n",
    "\n",
    "By default, if an image is given, it is drawn instead of the text. \n",
    "\n",
    "\n",
    "To get the text as well, we have to use the compound option. \n",
    "\n",
    "\n",
    "If we set the compound option to tkinter.CENTER the text will be drawn on top of the image.\n",
    "\n",
    "Similarly if we set it to tkinter.LEFT or tkinter.RIGHT , the image is drawn beside the text\n"
   ]
  },
  {
   "cell_type": "code",
   "execution_count": null,
   "id": "00f27e9a",
   "metadata": {},
   "outputs": [],
   "source": [
    "import tkinter\n",
    "root = tkinter.Tk()\n",
    "logo=tkinter.PhotoImage(file=\"d:/images/allow.gif\")\n",
    "lbl=tkinter.Label(root,text=\"Python is a general purpose programming language\",image=logo,compound=tkinter.CENTER)\n",
    "lbl.pack()\n",
    "root.mainloop()"
   ]
  },
  {
   "cell_type": "code",
   "execution_count": null,
   "id": "09e44afe",
   "metadata": {},
   "outputs": [],
   "source": [
    "import tkinter\n",
    "root = tkinter.Tk()\n",
    "logo=tkinter.PhotoImage(file=\"d:/images/allow.gif\")\n",
    "lbl=tkinter.Label(root,text=\"Python is a general purpose programming language\",image=logo,compound=tkinter.LEFT)\n",
    "lbl.pack()\n",
    "root.mainloop()"
   ]
  },
  {
   "cell_type": "markdown",
   "id": "5df0961a",
   "metadata": {},
   "source": [
    "### Three Ways Of Changing text Of Label\n",
    "Once we have created a Label and added it to the window we have 3 ways to change it’s text:\n",
    "\n",
    "Using config( ) method\n",
    "\n",
    "Using key/value pair approach\n",
    "\n",
    "Using textvariable attribute"
   ]
  },
  {
   "cell_type": "code",
   "execution_count": 6,
   "id": "94691535",
   "metadata": {},
   "outputs": [],
   "source": [
    "import tkinter\n",
    "root = tkinter.Tk()\n",
    "lbl=tkinter.Label(root,borderwidth=2,relief=\"solid\")\n",
    "lbl.pack()\n",
    "root.mainloop()"
   ]
  },
  {
   "cell_type": "markdown",
   "id": "efe731f2",
   "metadata": {},
   "source": [
    "We can see that since we haven’t set the text attribute of the Label it is appearing in a very tiny size on the window"
   ]
  },
  {
   "cell_type": "markdown",
   "id": "4f951568",
   "metadata": {},
   "source": [
    "### Example (Using config() Method)"
   ]
  },
  {
   "cell_type": "code",
   "execution_count": 7,
   "id": "6b82e174",
   "metadata": {},
   "outputs": [],
   "source": [
    "import tkinter\n",
    "root = tkinter.Tk()\n",
    "lbl=tkinter.Label(root,borderwidth=2,relief=\"solid\")\n",
    "lbl.pack()\n",
    "lbl.config(text=\"Welcome To Python\")\n",
    "root.mainloop()"
   ]
  },
  {
   "cell_type": "markdown",
   "id": "f053e36e",
   "metadata": {},
   "source": [
    "### Example (Using key/value Pair)"
   ]
  },
  {
   "cell_type": "code",
   "execution_count": 8,
   "id": "0b08702a",
   "metadata": {},
   "outputs": [],
   "source": [
    "import tkinter\n",
    "root = tkinter.Tk()\n",
    "lbl=tkinter.Label(root,borderwidth=2,relief=\"solid\")\n",
    "lbl.pack()\n",
    "lbl[\"text\"]=\"Welcome To Python\" \n",
    "root.mainloop()"
   ]
  },
  {
   "cell_type": "markdown",
   "id": "d4d21790",
   "metadata": {},
   "source": [
    "### Using textvariable Attribute\n",
    "We can associate a Tkinter variable with a Label. \n",
    "\n",
    "\n",
    "When the contents of the variable changes, the Label is automatically updated.\n",
    "\n",
    "This variable can be of type StringVar( ), IntVar(),DoubleVar() or BooleanVar().\n",
    "\n",
    "To read the current value of such a variable, we call it’s method get() and to change it’s value we call the method set() method."
   ]
  },
  {
   "cell_type": "code",
   "execution_count": 9,
   "id": "9c91dbe9",
   "metadata": {},
   "outputs": [],
   "source": [
    "import tkinter\n",
    "root = tkinter.Tk()\n",
    "msg=tkinter.StringVar()\n",
    "lbl=tkinter.Label(root,borderwidth=2,relief=\"solid\",textvariable=msg)\n",
    "lbl.pack()\n",
    "msg.set(\"Welcome To Python\")\n",
    "root.mainloop()"
   ]
  },
  {
   "cell_type": "markdown",
   "id": "d124dca1",
   "metadata": {},
   "source": [
    "There are 3 points worth noting here:\n",
    "- We have created a StringVar object called msg.\n",
    "- We have associated it with the Label by using textvariable attribute of the Label.\n",
    "- When we set the contents of msg , the contents of the Label automatically get updated  \n"
   ]
  },
  {
   "cell_type": "code",
   "execution_count": null,
   "id": "b3c95913",
   "metadata": {},
   "outputs": [],
   "source": []
  }
 ],
 "metadata": {
  "kernelspec": {
   "display_name": "Python 3 (ipykernel)",
   "language": "python",
   "name": "python3"
  },
  "language_info": {
   "codemirror_mode": {
    "name": "ipython",
    "version": 3
   },
   "file_extension": ".py",
   "mimetype": "text/x-python",
   "name": "python",
   "nbconvert_exporter": "python",
   "pygments_lexer": "ipython3",
   "version": "3.8.8"
  }
 },
 "nbformat": 4,
 "nbformat_minor": 5
}
